{
 "cells": [
  {
   "cell_type": "markdown",
   "metadata": {},
   "source": [
    "# 4. Estudo de caso: projeto de interface"
   ]
  },
  {
   "cell_type": "markdown",
   "metadata": {},
   "source": [
    "## Tartaruga"
   ]
  },
  {
   "cell_type": "code",
   "execution_count": null,
   "metadata": {},
   "outputs": [],
   "source": [
    "using ThinkJulia"
   ]
  },
  {
   "cell_type": "code",
   "execution_count": null,
   "metadata": {},
   "outputs": [],
   "source": [
    "🐢 = Turtle()"
   ]
  },
  {
   "cell_type": "code",
   "execution_count": null,
   "metadata": {},
   "outputs": [],
   "source": [
    "@svg begin\n",
    "    forward(🐢, 100)\n",
    "end"
   ]
  },
  {
   "cell_type": "code",
   "execution_count": null,
   "metadata": {},
   "outputs": [],
   "source": [
    "t = Turtle()\n",
    "@svg begin\n",
    "    forward(t, 100)\n",
    "    turn(t, -90)\n",
    "    forward(t, 100)\n",
    "end"
   ]
  },
  {
   "cell_type": "markdown",
   "metadata": {},
   "source": [
    "## Exercício 4-1\n"
   ]
  },
  {
   "cell_type": "code",
   "execution_count": null,
   "metadata": {},
   "outputs": [],
   "source": [
    "t = Turtle()\n",
    "@svg begin\n",
    "    forward(t, 100)\n",
    "    turn(t, -90)\n",
    "    forward(t, 100)\n",
    "    turn(t, -90)\n",
    "    forward(t, 100)\n",
    "    turn(t, -90)\n",
    "    forward(t, 100)\n",
    "end\n",
    "   \n"
   ]
  },
  {
   "cell_type": "code",
   "execution_count": null,
   "metadata": {},
   "outputs": [],
   "source": [
    "for i in 1:4\n",
    "    println(\"Hello!\")\n",
    "end"
   ]
  },
  {
   "cell_type": "code",
   "execution_count": null,
   "metadata": {},
   "outputs": [],
   "source": [
    "@svg begin\n",
    "    for i in 1:4\n",
    "        forward(t, 100)\n",
    "        turn(t, -90)\n",
    "    end\n",
    "end"
   ]
  },
  {
   "cell_type": "markdown",
   "metadata": {},
   "source": [
    "## Encapsulamento"
   ]
  },
  {
   "cell_type": "code",
   "execution_count": null,
   "metadata": {},
   "outputs": [],
   "source": [
    "function square(t)\n",
    "    for i in 1:4\n",
    "        forward(t, 100)\n",
    "        turn(t, -90)\n",
    "    end\n",
    "end\n",
    "        "
   ]
  },
  {
   "cell_type": "code",
   "execution_count": null,
   "metadata": {},
   "outputs": [],
   "source": [
    "🐢 = Turtle()\n",
    "@svg begin\n",
    "    square(🐢)\n",
    "end"
   ]
  },
  {
   "cell_type": "code",
   "execution_count": null,
   "metadata": {},
   "outputs": [],
   "source": [
    "🐫 = Turtle()\n",
    "@svg begin\n",
    "    square(🐫)\n",
    "end\n"
   ]
  },
  {
   "cell_type": "markdown",
   "metadata": {},
   "source": [
    "## Generalização"
   ]
  },
  {
   "cell_type": "code",
   "execution_count": null,
   "metadata": {},
   "outputs": [],
   "source": [
    "function square(t, len)\n",
    "    for i in 1:4\n",
    "        forward(t, len)\n",
    "        turn(t, -90)\n",
    "    end\n",
    "end"
   ]
  },
  {
   "cell_type": "code",
   "execution_count": null,
   "metadata": {},
   "outputs": [],
   "source": [
    "🐢 = Turtle()\n",
    "@svg begin\n",
    "    square(🐢, 100)\n",
    "end"
   ]
  },
  {
   "cell_type": "code",
   "execution_count": null,
   "metadata": {},
   "outputs": [],
   "source": [
    "function polygon(t, n, len)\n",
    "    angle = 360 / n\n",
    "    for i in 1:n\n",
    "        forward(t, len)\n",
    "        turn(t, -angle)\n",
    "    end\n",
    "end"
   ]
  },
  {
   "cell_type": "code",
   "execution_count": null,
   "metadata": {},
   "outputs": [],
   "source": [
    "🐢 = Turtle()\n",
    "@svg begin\n",
    "    polygon(🐢, 7, 70)\n",
    "end"
   ]
  },
  {
   "cell_type": "markdown",
   "metadata": {},
   "source": [
    "## Projeto de interface"
   ]
  },
  {
   "cell_type": "code",
   "execution_count": null,
   "metadata": {},
   "outputs": [],
   "source": [
    "function circle(t, r)\n",
    "    circumference = 2 * π * r\n",
    "    n = 50\n",
    "    len = circumference / n\n",
    "    polygon(t, n, len)\n",
    "end"
   ]
  },
  {
   "cell_type": "code",
   "execution_count": null,
   "metadata": {},
   "outputs": [],
   "source": [
    "🐢 = Turtle()\n",
    "@svg begin\n",
    "    circle(🐢, 70)\n",
    "end"
   ]
  },
  {
   "cell_type": "code",
   "execution_count": null,
   "metadata": {},
   "outputs": [],
   "source": [
    "function circle(t, r)\n",
    "    circumference = 2 * π * r\n",
    "    n = trunc(circumference / 3) + 3\n",
    "    len = circumference / n\n",
    "    polygon(t, n, len)\n",
    "end\n",
    "\n"
   ]
  },
  {
   "cell_type": "code",
   "execution_count": null,
   "metadata": {},
   "outputs": [],
   "source": [
    "🐢 = Turtle()\n",
    "@svg begin\n",
    "    circle(🐢, 50)\n",
    "end"
   ]
  },
  {
   "cell_type": "markdown",
   "metadata": {},
   "source": [
    "## Refatorando"
   ]
  },
  {
   "cell_type": "code",
   "execution_count": null,
   "metadata": {},
   "outputs": [],
   "source": [
    "function arc(t, r, angle)\n",
    "    arc_len = 2 * π * r * angle / 360\n",
    "    n = trunc(arc_len / 3) + 1\n",
    "    step_len = arc_len / n\n",
    "    step_angle = angle / n\n",
    "    for i in 1:n\n",
    "        forward(t, step_len)\n",
    "        turn(t, -step_angle)\n",
    "    end\n",
    "end"
   ]
  },
  {
   "cell_type": "code",
   "execution_count": null,
   "metadata": {},
   "outputs": [],
   "source": [
    "function polyline(t, n, len, angle)\n",
    "    for i in 1:n\n",
    "        forward(t, len)\n",
    "        turn(t, -angle)\n",
    "    end\n",
    "end\n",
    "\n"
   ]
  },
  {
   "cell_type": "code",
   "execution_count": null,
   "metadata": {},
   "outputs": [],
   "source": [
    "function polygon(t, n, len)\n",
    "    angle = 360 / n\n",
    "    polyline(t, n, len, angle)\n",
    "end\n"
   ]
  },
  {
   "cell_type": "code",
   "execution_count": null,
   "metadata": {},
   "outputs": [],
   "source": [
    "function arc(t, r, angle)\n",
    "    arc_len = 2 * π * r * angle / 360\n",
    "    n = trunc(arc_len / 3) + 1\n",
    "    step_len = arc_len / n\n",
    "    step_angle = angle / n\n",
    "    polyline(t, n, step_len, step_angle)\n",
    "end"
   ]
  },
  {
   "cell_type": "code",
   "execution_count": null,
   "metadata": {},
   "outputs": [],
   "source": [
    "function circle(t, r)\n",
    "    arc(t, r, 360)\n",
    "end"
   ]
  },
  {
   "cell_type": "markdown",
   "metadata": {},
   "source": [
    "## Plano de desenvolvimento\n",
    "\n",
    "É o processo de escrever programas. Neste caso, o processo é \"encapsulamento e generalização\":\n",
    "\n",
    " 1. Pequenos programas sem funções\n",
    " 2. Identifique partes funcionais e encapsule\n",
    " 3. Generalize adicionando parâmetros\n",
    " 4. Repita as etapas anteriores até você ter um conjunto de funções úteis\n",
    " 5. Busque oportunidades para melhorar o programa através de refatoração."
   ]
  },
  {
   "cell_type": "markdown",
   "metadata": {},
   "source": [
    "## Docstring"
   ]
  },
  {
   "cell_type": "code",
   "execution_count": null,
   "metadata": {},
   "outputs": [],
   "source": [
    "\"\"\"\n",
    "polyline(t, n, len, angle)\n",
    "\n",
    "Draws n line segments with the given length and\n",
    "angle (in degrees) between them.  t is a turtle.\n",
    "\"\"\"\n",
    "function polyline(t, n, len, angle)\n",
    "    for i in 1:n\n",
    "        forward(t, len)\n",
    "        turn(t, -angle)\n",
    "    end\n",
    "end"
   ]
  },
  {
   "cell_type": "code",
   "execution_count": null,
   "metadata": {},
   "outputs": [],
   "source": [
    "?polyline"
   ]
  },
  {
   "cell_type": "code",
   "execution_count": null,
   "metadata": {},
   "outputs": [],
   "source": []
  }
 ],
 "metadata": {
  "kernelspec": {
   "display_name": "Julia 1.4.1",
   "language": "julia",
   "name": "julia-1.4"
  },
  "language_info": {
   "file_extension": ".jl",
   "mimetype": "application/julia",
   "name": "julia",
   "version": "1.4.1"
  }
 },
 "nbformat": 4,
 "nbformat_minor": 4
}
