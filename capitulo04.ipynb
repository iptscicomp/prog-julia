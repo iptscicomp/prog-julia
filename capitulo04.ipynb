{
 "cells": [
  {
   "cell_type": "markdown",
   "metadata": {},
   "source": [
    "# 4. Estudo de caso: projeto de interface\n",
    "\n",
    " * Este notebook pode ser encontrado em <https://github.com/iptscicomp/prog-julia>\n",
    " * Instalação no windows <https://www.youtube.com/watch?v=IkegcEP3T_M>\n",
    " * Instalação no linux <https://www.youtube.com/watch?v=jDq6Iwdi82g>\n",
    " * Pacote Luxor.jl (onde está definido o Turtle Graphics) <http://juliagraphics.github.io/Luxor.jl/stable/>\n",
    " "
   ]
  },
  {
   "cell_type": "markdown",
   "metadata": {},
   "source": [
    "## Tartaruga"
   ]
  },
  {
   "cell_type": "code",
   "execution_count": null,
   "metadata": {},
   "outputs": [],
   "source": [
    "using ThinkJulia"
   ]
  },
  {
   "cell_type": "code",
   "execution_count": null,
   "metadata": {},
   "outputs": [],
   "source": [
    "🐢 = Turtle()"
   ]
  },
  {
   "cell_type": "code",
   "execution_count": null,
   "metadata": {},
   "outputs": [],
   "source": [
    "@svg begin\n",
    "    forward(🐢, 100)\n",
    "end"
   ]
  },
  {
   "cell_type": "code",
   "execution_count": null,
   "metadata": {},
   "outputs": [],
   "source": [
    "t = Turtle()\n",
    "@svg begin\n",
    "    forward(t, 100)\n",
    "    turn(t, -90)\n",
    "    forward(t, 100)\n",
    "end"
   ]
  },
  {
   "cell_type": "markdown",
   "metadata": {},
   "source": [
    "## Exercício 4-1\n"
   ]
  },
  {
   "cell_type": "code",
   "execution_count": null,
   "metadata": {},
   "outputs": [],
   "source": [
    "t = Turtle()\n",
    "@svg begin\n",
    "    forward(t, 100)\n",
    "    turn(t, -90)\n",
    "    forward(t, 100)\n",
    "    turn(t, -90)\n",
    "    forward(t, 100)\n",
    "    turn(t, -90)\n",
    "    forward(t, 100)\n",
    "end\n",
    "   \n"
   ]
  },
  {
   "cell_type": "code",
   "execution_count": null,
   "metadata": {},
   "outputs": [],
   "source": [
    "for i in 1:4\n",
    "    println(\"Hello!\")\n",
    "end"
   ]
  },
  {
   "cell_type": "code",
   "execution_count": null,
   "metadata": {},
   "outputs": [],
   "source": [
    "@svg begin\n",
    "    for i in 1:4\n",
    "        forward(t, 100)\n",
    "        turn(t, -90)\n",
    "    end\n",
    "end"
   ]
  },
  {
   "cell_type": "markdown",
   "metadata": {},
   "source": [
    "## Encapsulamento"
   ]
  },
  {
   "cell_type": "code",
   "execution_count": null,
   "metadata": {},
   "outputs": [],
   "source": [
    "function square(t)\n",
    "    for i in 1:4\n",
    "        forward(t, 100)\n",
    "        turn(t, -90)\n",
    "    end\n",
    "end\n",
    "        "
   ]
  },
  {
   "cell_type": "code",
   "execution_count": null,
   "metadata": {},
   "outputs": [],
   "source": [
    "🐢 = Turtle()\n",
    "@svg begin\n",
    "    square(🐢)\n",
    "end"
   ]
  },
  {
   "cell_type": "code",
   "execution_count": null,
   "metadata": {},
   "outputs": [],
   "source": [
    "🐫 = Turtle()\n",
    "@svg begin\n",
    "    square(🐫)\n",
    "end\n"
   ]
  },
  {
   "cell_type": "markdown",
   "metadata": {},
   "source": [
    "## Generalização"
   ]
  },
  {
   "cell_type": "code",
   "execution_count": null,
   "metadata": {},
   "outputs": [],
   "source": [
    "function square(t, len)\n",
    "    for i in 1:4\n",
    "        forward(t, len)\n",
    "        turn(t, -90)\n",
    "    end\n",
    "end"
   ]
  },
  {
   "cell_type": "code",
   "execution_count": null,
   "metadata": {},
   "outputs": [],
   "source": [
    "🐢 = Turtle()\n",
    "@svg begin\n",
    "    square(🐢, 100)\n",
    "end"
   ]
  },
  {
   "cell_type": "code",
   "execution_count": null,
   "metadata": {},
   "outputs": [],
   "source": [
    "function polygon(t, n, len)\n",
    "    angle = 360 / n\n",
    "    for i in 1:n\n",
    "        forward(t, len)\n",
    "        turn(t, -angle)\n",
    "    end\n",
    "end"
   ]
  },
  {
   "cell_type": "code",
   "execution_count": null,
   "metadata": {},
   "outputs": [],
   "source": [
    "🐢 = Turtle()\n",
    "@svg begin\n",
    "    polygon(🐢, 7, 70)\n",
    "end"
   ]
  },
  {
   "cell_type": "markdown",
   "metadata": {},
   "source": [
    "## Projeto de interface"
   ]
  },
  {
   "cell_type": "code",
   "execution_count": null,
   "metadata": {},
   "outputs": [],
   "source": [
    "function circle(t, r)\n",
    "    circumference = 2 * π * r\n",
    "    n = 50\n",
    "    len = circumference / n\n",
    "    polygon(t, n, len)\n",
    "end"
   ]
  },
  {
   "cell_type": "code",
   "execution_count": null,
   "metadata": {},
   "outputs": [],
   "source": [
    "🐢 = Turtle()\n",
    "@svg begin\n",
    "    circle(🐢, 70)\n",
    "end"
   ]
  },
  {
   "cell_type": "code",
   "execution_count": null,
   "metadata": {},
   "outputs": [],
   "source": [
    "function circle(t, r)\n",
    "    circumference = 2 * π * r\n",
    "    n = trunc(circumference / 3) + 3\n",
    "    len = circumference / n\n",
    "    polygon(t, n, len)\n",
    "end\n",
    "\n"
   ]
  },
  {
   "cell_type": "code",
   "execution_count": null,
   "metadata": {},
   "outputs": [],
   "source": [
    "🐢 = Turtle()\n",
    "@svg begin\n",
    "    circle(🐢, 50)\n",
    "end"
   ]
  },
  {
   "cell_type": "markdown",
   "metadata": {},
   "source": [
    "## Refatorando"
   ]
  },
  {
   "cell_type": "code",
   "execution_count": null,
   "metadata": {},
   "outputs": [],
   "source": [
    "function arc(t, r, angle)\n",
    "    arc_len = 2 * π * r * angle / 360\n",
    "    n = trunc(arc_len / 3) + 1\n",
    "    step_len = arc_len / n\n",
    "    step_angle = angle / n\n",
    "    for i in 1:n\n",
    "        forward(t, step_len)\n",
    "        turn(t, -step_angle)\n",
    "    end\n",
    "end"
   ]
  },
  {
   "cell_type": "code",
   "execution_count": null,
   "metadata": {},
   "outputs": [],
   "source": [
    "function polyline(t, n, len, angle)\n",
    "    for i in 1:n\n",
    "        forward(t, len)\n",
    "        turn(t, -angle)\n",
    "    end\n",
    "end\n",
    "\n"
   ]
  },
  {
   "cell_type": "code",
   "execution_count": null,
   "metadata": {},
   "outputs": [],
   "source": [
    "function polygon(t, n, len)\n",
    "    angle = 360 / n\n",
    "    polyline(t, n, len, angle)\n",
    "end\n"
   ]
  },
  {
   "cell_type": "code",
   "execution_count": null,
   "metadata": {},
   "outputs": [],
   "source": [
    "function arc(t, r, angle)\n",
    "    arc_len = 2 * π * r * angle / 360\n",
    "    n = trunc(arc_len / 3) + 1\n",
    "    step_len = arc_len / n\n",
    "    step_angle = angle / n\n",
    "    polyline(t, n, step_len, step_angle)\n",
    "end"
   ]
  },
  {
   "cell_type": "code",
   "execution_count": null,
   "metadata": {},
   "outputs": [],
   "source": [
    "function circle(t, r)\n",
    "    arc(t, r, 360)\n",
    "end"
   ]
  },
  {
   "cell_type": "markdown",
   "metadata": {},
   "source": [
    "## Plano de desenvolvimento\n",
    "\n",
    "É o processo de escrever programas. Neste caso, o processo é \"encapsulamento e generalização\":\n",
    "\n",
    " 1. Pequenos programas sem funções\n",
    " 2. Identifique partes funcionais e encapsule\n",
    " 3. Generalize adicionando parâmetros\n",
    " 4. Repita as etapas anteriores até você ter um conjunto de funções úteis\n",
    " 5. Busque oportunidades para melhorar o programa através de refatoração."
   ]
  },
  {
   "cell_type": "markdown",
   "metadata": {},
   "source": [
    "## Docstring"
   ]
  },
  {
   "cell_type": "code",
   "execution_count": null,
   "metadata": {},
   "outputs": [],
   "source": [
    "\"\"\"\n",
    "polyline(t, n, len, angle)\n",
    "\n",
    "Draws n line segments with the given length and\n",
    "angle (in degrees) between them.  t is a turtle.\n",
    "\"\"\"\n",
    "function polyline(t, n, len, angle)\n",
    "    for i in 1:n\n",
    "        forward(t, len)\n",
    "        turn(t, -angle)\n",
    "    end\n",
    "end"
   ]
  },
  {
   "cell_type": "code",
   "execution_count": null,
   "metadata": {},
   "outputs": [],
   "source": [
    "?polyline"
   ]
  },
  {
   "cell_type": "markdown",
   "metadata": {},
   "source": [
    "## Exercícios"
   ]
  },
  {
   "cell_type": "markdown",
   "metadata": {},
   "source": [
    "### Exercício 4-8\n",
    "\n",
    " 1. Mostre o estado do programa quando executa a instrução `circle(t, raio)`. Você pode fazer isso na mão ou adicionando statements `println` no código.\n",
    " 2. A versão da função `arc` definida na refatoração não é muito precisa pois a aproximação do cícrculo está sempre fora do círculo verdadeiro. Como resultado, a tartaruga está sempre a alguns pixels do círculo. A solução abaixo reduz este efeito. Leia este código e veja se faz sentido.Faça um diagrama de execução e veja como funciona."
   ]
  },
  {
   "cell_type": "code",
   "execution_count": null,
   "metadata": {},
   "outputs": [],
   "source": [
    "\"\"\"\n",
    "arc(t, r, angle)\n",
    "\n",
    "Draws an arc with the given radius and angle:\n",
    "\n",
    "    t: turtle\n",
    "    r: radius\n",
    "    angle: angle subtended by the arc, in degrees\n",
    "\"\"\"\n",
    "function arc(t, r, angle)\n",
    "    arc_len = 2 * π * r * abs(angle) / 360\n",
    "    n = trunc(arc_len / 4) + 3\n",
    "    step_len = arc_len / n\n",
    "    step_angle = angle / n\n",
    "\n",
    "    # making a slight left turn before starting reduces\n",
    "    # the error caused by the linear approximation of the arc\n",
    "    turn(t, -step_angle/2)\n",
    "    polyline(t, n, step_len, step_angle)\n",
    "    turn(t, step_angle/2)\n",
    "end"
   ]
  },
  {
   "cell_type": "code",
   "execution_count": null,
   "metadata": {},
   "outputs": [],
   "source": []
  },
  {
   "cell_type": "markdown",
   "metadata": {},
   "source": [
    "### Exercício 4-9\n",
    "\n",
    "Escreva um conjunto de funções apropriadas para desenhar flores de tartarugas (ver <https://benlauwens.github.io/ThinkJulia.jl/latest/book.html#fig04-2>)"
   ]
  },
  {
   "cell_type": "code",
   "execution_count": null,
   "metadata": {},
   "outputs": [],
   "source": []
  },
  {
   "cell_type": "markdown",
   "metadata": {},
   "source": [
    "### Exercício 4-10\n",
    "\n",
    "Escreva um conjunto de funções apropriadas para desenhar tortas de de tartarugas (ver <https://benlauwens.github.io/ThinkJulia.jl/latest/book.html#fig04-3>"
   ]
  },
  {
   "cell_type": "code",
   "execution_count": null,
   "metadata": {},
   "outputs": [],
   "source": []
  },
  {
   "cell_type": "markdown",
   "metadata": {},
   "source": [
    "### Exercício 4-11\n",
    "As letras do alfabeto podem ser construídas a partir de elementos básicos como linhas verticais e horizontais e algumas curvas. Projete um alfabeto que pode ser desenhado com um mínimo destes elementos básicos e escreva funções para desenhar as letras.\n",
    "\n",
    "Cada letra deveria ter uma função correspondente, `escreve_a`, `escreve_b` e assim por diante. Estas funções devem estar em um arquivo chamado `letras.jl`"
   ]
  },
  {
   "cell_type": "code",
   "execution_count": null,
   "metadata": {},
   "outputs": [],
   "source": []
  },
  {
   "cell_type": "markdown",
   "metadata": {},
   "source": [
    "### Exercício 4-12\n",
    "\n",
    "Leia sobre espirais em <https://pt.wikipedia.org/wiki/Espiral> e escreva um programa que desenha uma espiral de Arquimedes como explicado em <https://pt.wikipedia.org/wiki/Espiral_de_Arquimedes>\n"
   ]
  },
  {
   "cell_type": "code",
   "execution_count": null,
   "metadata": {},
   "outputs": [],
   "source": []
  }
 ],
 "metadata": {
  "@webio": {
   "lastCommId": null,
   "lastKernelId": null
  },
  "kernelspec": {
   "display_name": "Julia 1.4.1",
   "language": "julia",
   "name": "julia-1.4"
  },
  "language_info": {
   "file_extension": ".jl",
   "mimetype": "application/julia",
   "name": "julia",
   "version": "1.4.1"
  }
 },
 "nbformat": 4,
 "nbformat_minor": 4
}
